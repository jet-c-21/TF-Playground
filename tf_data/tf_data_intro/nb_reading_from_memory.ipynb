{
 "cells": [
  {
   "cell_type": "code",
   "execution_count": 23,
   "id": "6f3ef3ef-b8f4-489e-a66e-195f62257054",
   "metadata": {},
   "outputs": [],
   "source": [
    "from pyimagesearch.helpers import benchmark\n",
    "from tensorflow.keras.preprocessing.image import ImageDataGenerator\n",
    "from tensorflow.keras.datasets import cifar100\n",
    "from tensorflow.data import AUTOTUNE\n",
    "import tensorflow as tf"
   ]
  },
  {
   "cell_type": "code",
   "execution_count": 24,
   "id": "3ce30685-956d-4b27-b838-3699504c8f8e",
   "metadata": {},
   "outputs": [],
   "source": [
    "# initialize the batch size and number of steps\n",
    "BS = 64\n",
    "NUM_STEPS = 5000"
   ]
  },
  {
   "cell_type": "markdown",
   "id": "59cccfab-a618-4c70-82a7-2a581348edbe",
   "metadata": {},
   "source": [
    "### load the CIFAR-10 dataset from"
   ]
  },
  {
   "cell_type": "code",
   "execution_count": 25,
   "id": "6b97907e-101d-4c12-83f3-d92bfda52662",
   "metadata": {},
   "outputs": [
    {
     "name": "stdout",
     "output_type": "stream",
     "text": [
      "[INFO] loading the cifar100 dataset...\n"
     ]
    }
   ],
   "source": [
    "print(\"[INFO] loading the cifar100 dataset...\")\n",
    "(trainX, trainY), (testX, testY) = cifar100.load_data()"
   ]
  },
  {
   "cell_type": "code",
   "execution_count": 26,
   "id": "bef4335a-f975-420b-8a68-f39d7bcaabf7",
   "metadata": {},
   "outputs": [
    {
     "data": {
      "text/plain": [
       "((50000, 32, 32, 3), (10000, 32, 32, 3))"
      ]
     },
     "execution_count": 26,
     "metadata": {},
     "output_type": "execute_result"
    }
   ],
   "source": [
    "trainX.shape, testX.shape"
   ]
  },
  {
   "cell_type": "markdown",
   "id": "6880a3bd-dbe8-4328-9bf3-02f10b0a98c2",
   "metadata": {},
   "source": [
    "### create a standard image generator object"
   ]
  },
  {
   "cell_type": "code",
   "execution_count": 27,
   "id": "4ad2f398-a82f-419c-a6c2-3ad67cdf75ec",
   "metadata": {},
   "outputs": [
    {
     "name": "stdout",
     "output_type": "stream",
     "text": [
      "[INFO] creating a ImageDataGenerator object...\n"
     ]
    }
   ],
   "source": [
    "print(\"[INFO] creating a ImageDataGenerator object...\")\n",
    "imageGen = ImageDataGenerator()\n",
    "dataGen = imageGen.flow(x=trainX, y=trainY, batch_size=BS, shuffle=True)"
   ]
  },
  {
   "cell_type": "markdown",
   "id": "552b5eda-39b2-4ca7-95b1-1512fb371793",
   "metadata": {},
   "source": [
    "### build a TensorFlow dataset from the training data"
   ]
  },
  {
   "cell_type": "code",
   "execution_count": 28,
   "id": "782258e3-99ad-4239-a840-6a90ee6d8f2b",
   "metadata": {},
   "outputs": [],
   "source": [
    "dataset = tf.data.Dataset.from_tensor_slices((trainX, trainY))"
   ]
  },
  {
   "cell_type": "code",
   "execution_count": 29,
   "id": "9be7b75a-82bf-4644-a6d0-f8a91e01be5c",
   "metadata": {},
   "outputs": [
    {
     "data": {
      "text/plain": [
       "<TensorSliceDataset element_spec=(TensorSpec(shape=(32, 32, 3), dtype=tf.uint8, name=None), TensorSpec(shape=(1,), dtype=tf.int64, name=None))>"
      ]
     },
     "execution_count": 29,
     "metadata": {},
     "output_type": "execute_result"
    }
   ],
   "source": [
    "dataset"
   ]
  },
  {
   "cell_type": "markdown",
   "id": "bdfed2f6-b90d-4202-acd8-5f0e4f8e74f8",
   "metadata": {},
   "source": [
    "# build the data input pipeline"
   ]
  },
  {
   "cell_type": "code",
   "execution_count": 30,
   "id": "8756312f-b856-43aa-bcd8-0e8c51136d2b",
   "metadata": {},
   "outputs": [
    {
     "name": "stdout",
     "output_type": "stream",
     "text": [
      "[INFO] creating a tf.data input pipeline..\n"
     ]
    }
   ],
   "source": [
    "print(\"[INFO] creating a tf.data input pipeline..\")\n",
    "dataset = dataset.shuffle(1024).cache().repeat().batch(BS).prefetch(AUTOTUNE)"
   ]
  },
  {
   "cell_type": "code",
   "execution_count": 31,
   "id": "f3e8de15-c19a-45ba-84dc-ea2162d0211e",
   "metadata": {},
   "outputs": [
    {
     "data": {
      "text/plain": [
       "<PrefetchDataset element_spec=(TensorSpec(shape=(None, 32, 32, 3), dtype=tf.uint8, name=None), TensorSpec(shape=(None, 1), dtype=tf.int64, name=None))>"
      ]
     },
     "execution_count": 31,
     "metadata": {},
     "output_type": "execute_result"
    }
   ],
   "source": [
    "dataset"
   ]
  },
  {
   "cell_type": "markdown",
   "id": "e37d2be1-867a-4935-999a-f52eb4683160",
   "metadata": {},
   "source": [
    "### benchmark the image data generator and display the number of data points generated, along with the time taken to perform the operation"
   ]
  },
  {
   "cell_type": "code",
   "execution_count": 32,
   "id": "40d4048f-04d7-4a7b-8abd-ba74e5a65400",
   "metadata": {},
   "outputs": [
    {
     "name": "stdout",
     "output_type": "stream",
     "text": [
      "[INFO] ImageDataGenerator generated 320000 images in 4.36 seconds...\n"
     ]
    }
   ],
   "source": [
    "totalTime = benchmark(dataGen, NUM_STEPS)\n",
    "msg = f\"[INFO] ImageDataGenerator generated {BS * NUM_STEPS} images in {totalTime:.2f} seconds...\"\n",
    "print(msg)"
   ]
  },
  {
   "cell_type": "markdown",
   "id": "6ab38b8b-7d0d-40c9-9646-98f6d190bb8b",
   "metadata": {},
   "source": [
    "### create a dataset iterator, benchmark the tf.data pipeline, and display the number of data points generator along with the time taken"
   ]
  },
  {
   "cell_type": "code",
   "execution_count": 37,
   "id": "cdd8e0da-e456-4cc4-a187-db842916a1f3",
   "metadata": {},
   "outputs": [
    {
     "data": {
      "text/plain": [
       "<tensorflow.python.data.ops.iterator_ops.OwnedIterator at 0x7f8cb58f93d0>"
      ]
     },
     "execution_count": 37,
     "metadata": {},
     "output_type": "execute_result"
    }
   ],
   "source": [
    "datasetGen = iter(dataset)\n",
    "\n",
    "datasetGen"
   ]
  },
  {
   "cell_type": "code",
   "execution_count": 38,
   "id": "555192bb-893d-481d-88c0-f3e7df7f7a16",
   "metadata": {},
   "outputs": [
    {
     "name": "stdout",
     "output_type": "stream",
     "text": [
      "[INFO] tf.data generated 320000 images in 0.75 seconds...\n"
     ]
    }
   ],
   "source": [
    "totalTime = benchmark(datasetGen, NUM_STEPS)\n",
    "msg = f\"[INFO] tf.data generated {BS * NUM_STEPS} images in {totalTime:.2f} seconds...\"\n",
    "print(msg)"
   ]
  },
  {
   "cell_type": "code",
   "execution_count": null,
   "id": "addb4b0c-3cb6-4969-8bb2-e1dd93198238",
   "metadata": {},
   "outputs": [],
   "source": []
  },
  {
   "cell_type": "code",
   "execution_count": null,
   "id": "d1fc5c7f-6650-4678-99c8-e3dc949aa9dc",
   "metadata": {},
   "outputs": [],
   "source": []
  },
  {
   "cell_type": "code",
   "execution_count": null,
   "id": "48e1977e-8af2-4489-90a2-7819495456c6",
   "metadata": {},
   "outputs": [],
   "source": []
  },
  {
   "cell_type": "code",
   "execution_count": null,
   "id": "4b578b49-382d-4edb-8516-1851c36a6057",
   "metadata": {},
   "outputs": [],
   "source": []
  },
  {
   "cell_type": "code",
   "execution_count": null,
   "id": "9d109bc0-85e7-409b-a269-92955a70297b",
   "metadata": {},
   "outputs": [],
   "source": []
  },
  {
   "cell_type": "code",
   "execution_count": null,
   "id": "de3c40ad-0d50-44ac-8c52-214ba24fec0f",
   "metadata": {},
   "outputs": [],
   "source": []
  }
 ],
 "metadata": {
  "kernelspec": {
   "display_name": "OME",
   "language": "python",
   "name": "ome"
  },
  "language_info": {
   "codemirror_mode": {
    "name": "ipython",
    "version": 3
   },
   "file_extension": ".py",
   "mimetype": "text/x-python",
   "name": "python",
   "nbconvert_exporter": "python",
   "pygments_lexer": "ipython3",
   "version": "3.8.13"
  }
 },
 "nbformat": 4,
 "nbformat_minor": 5
}
